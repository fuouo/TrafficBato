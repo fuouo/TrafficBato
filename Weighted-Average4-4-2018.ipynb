{
 "cells": [
  {
   "cell_type": "code",
   "execution_count": 31,
   "metadata": {},
   "outputs": [],
   "source": [
    "#SIMPLE DATA READING\n",
    "from pandas import Series\n",
    "from pandas import DataFrame\n",
    "from pandas import concat\n",
    "import pandas as pd\n",
    "import os\n",
    "import numpy as np\n",
    "\n",
    "# data = pd.read_csv('pm1pm2.csv', skipinitialspace = True, sep = ',')\n",
    "# data.columns.values\n",
    "# type(data['PM1'][1])"
   ]
  },
  {
   "cell_type": "code",
   "execution_count": 32,
   "metadata": {},
   "outputs": [],
   "source": [
    "#weights\n",
    "W1 = 0.1392\n",
    "W2 = 0.2364"
   ]
  },
  {
   "cell_type": "code",
   "execution_count": 33,
   "metadata": {},
   "outputs": [
    {
     "data": {
      "text/html": [
       "<div>\n",
       "<style scoped>\n",
       "    .dataframe tbody tr th:only-of-type {\n",
       "        vertical-align: middle;\n",
       "    }\n",
       "\n",
       "    .dataframe tbody tr th {\n",
       "        vertical-align: top;\n",
       "    }\n",
       "\n",
       "    .dataframe thead th {\n",
       "        text-align: right;\n",
       "    }\n",
       "</style>\n",
       "<table border=\"1\" class=\"dataframe\">\n",
       "  <thead>\n",
       "    <tr style=\"text-align: right;\">\n",
       "      <th></th>\n",
       "      <th>Actual</th>\n",
       "      <th>PM1</th>\n",
       "      <th>PM2</th>\n",
       "    </tr>\n",
       "    <tr>\n",
       "      <th>dt</th>\n",
       "      <th></th>\n",
       "      <th></th>\n",
       "      <th></th>\n",
       "    </tr>\n",
       "  </thead>\n",
       "  <tbody>\n",
       "    <tr>\n",
       "      <th>2015-07-22 03:45:00</th>\n",
       "      <td>0.932784</td>\n",
       "      <td>0.771055</td>\n",
       "      <td>0.839542</td>\n",
       "    </tr>\n",
       "    <tr>\n",
       "      <th>2015-07-22 04:00:00</th>\n",
       "      <td>0.940946</td>\n",
       "      <td>0.741060</td>\n",
       "      <td>0.808993</td>\n",
       "    </tr>\n",
       "    <tr>\n",
       "      <th>2015-07-22 04:15:00</th>\n",
       "      <td>0.937501</td>\n",
       "      <td>0.724199</td>\n",
       "      <td>0.812607</td>\n",
       "    </tr>\n",
       "    <tr>\n",
       "      <th>2015-07-22 04:30:00</th>\n",
       "      <td>0.916327</td>\n",
       "      <td>0.699518</td>\n",
       "      <td>0.816105</td>\n",
       "    </tr>\n",
       "    <tr>\n",
       "      <th>2015-07-22 04:45:00</th>\n",
       "      <td>0.870975</td>\n",
       "      <td>0.669305</td>\n",
       "      <td>0.819476</td>\n",
       "    </tr>\n",
       "  </tbody>\n",
       "</table>\n",
       "</div>"
      ],
      "text/plain": [
       "                       Actual       PM1       PM2\n",
       "dt                                               \n",
       "2015-07-22 03:45:00  0.932784  0.771055  0.839542\n",
       "2015-07-22 04:00:00  0.940946  0.741060  0.808993\n",
       "2015-07-22 04:15:00  0.937501  0.724199  0.812607\n",
       "2015-07-22 04:30:00  0.916327  0.699518  0.816105\n",
       "2015-07-22 04:45:00  0.870975  0.669305  0.819476"
      ]
     },
     "execution_count": 33,
     "metadata": {},
     "output_type": "execute_result"
    }
   ],
   "source": [
    "DIR = \"output/[DBN]Wet_StatusN_PM1[REC96]_PM2[96_AW]\" + \"/\"\n",
    "df_pm1 = pd.read_csv(DIR + \"pm1_Vicente Cruz_2015.csv\", index_col = 2)\n",
    "df_pm2 = pd.read_csv(DIR + \"pm2_Vicente Cruz_2015.csv\", index_col = 2)\n",
    "\n",
    "data = df_pm1\n",
    "data['PM1'] = df_pm1.Predicted\n",
    "data['PM2'] = df_pm2.Predicted\n",
    "data = data.drop(['Predicted'], axis=1)\n",
    "data.head()"
   ]
  },
  {
   "cell_type": "code",
   "execution_count": 34,
   "metadata": {},
   "outputs": [
    {
     "name": "stderr",
     "output_type": "stream",
     "text": [
      "c:\\users\\ronnie nieva\\anaconda3\\envs\\tensorflow\\lib\\site-packages\\ipykernel_launcher.py:1: FutureWarning: convert_objects is deprecated.  To re-infer data dtypes for object columns, use Series.infer_objects()\n",
      "For all other conversions use the data-type specific converters pd.to_datetime, pd.to_timedelta and pd.to_numeric.\n",
      "  \"\"\"Entry point for launching an IPython kernel.\n",
      "c:\\users\\ronnie nieva\\anaconda3\\envs\\tensorflow\\lib\\site-packages\\ipykernel_launcher.py:2: FutureWarning: convert_objects is deprecated.  To re-infer data dtypes for object columns, use Series.infer_objects()\n",
      "For all other conversions use the data-type specific converters pd.to_datetime, pd.to_timedelta and pd.to_numeric.\n",
      "  \n"
     ]
    },
    {
     "data": {
      "text/html": [
       "<div>\n",
       "<style scoped>\n",
       "    .dataframe tbody tr th:only-of-type {\n",
       "        vertical-align: middle;\n",
       "    }\n",
       "\n",
       "    .dataframe tbody tr th {\n",
       "        vertical-align: top;\n",
       "    }\n",
       "\n",
       "    .dataframe thead th {\n",
       "        text-align: right;\n",
       "    }\n",
       "</style>\n",
       "<table border=\"1\" class=\"dataframe\">\n",
       "  <thead>\n",
       "    <tr style=\"text-align: right;\">\n",
       "      <th></th>\n",
       "      <th>Actual</th>\n",
       "      <th>PM1</th>\n",
       "      <th>PM2</th>\n",
       "      <th>WeightedAverage</th>\n",
       "    </tr>\n",
       "    <tr>\n",
       "      <th>dt</th>\n",
       "      <th></th>\n",
       "      <th></th>\n",
       "      <th></th>\n",
       "      <th></th>\n",
       "    </tr>\n",
       "  </thead>\n",
       "  <tbody>\n",
       "    <tr>\n",
       "      <th>2015-07-22 03:45:00</th>\n",
       "      <td>0.932784</td>\n",
       "      <td>0.771055</td>\n",
       "      <td>0.839542</td>\n",
       "      <td>0.189867</td>\n",
       "    </tr>\n",
       "    <tr>\n",
       "      <th>2015-07-22 04:00:00</th>\n",
       "      <td>0.940946</td>\n",
       "      <td>0.741060</td>\n",
       "      <td>0.808993</td>\n",
       "      <td>0.189930</td>\n",
       "    </tr>\n",
       "    <tr>\n",
       "      <th>2015-07-22 04:15:00</th>\n",
       "      <td>0.937501</td>\n",
       "      <td>0.724199</td>\n",
       "      <td>0.812607</td>\n",
       "      <td>0.190596</td>\n",
       "    </tr>\n",
       "    <tr>\n",
       "      <th>2015-07-22 04:30:00</th>\n",
       "      <td>0.916327</td>\n",
       "      <td>0.699518</td>\n",
       "      <td>0.816105</td>\n",
       "      <td>0.191538</td>\n",
       "    </tr>\n",
       "    <tr>\n",
       "      <th>2015-07-22 04:45:00</th>\n",
       "      <td>0.870975</td>\n",
       "      <td>0.669305</td>\n",
       "      <td>0.819476</td>\n",
       "      <td>0.192702</td>\n",
       "    </tr>\n",
       "  </tbody>\n",
       "</table>\n",
       "</div>"
      ],
      "text/plain": [
       "                       Actual       PM1       PM2  WeightedAverage\n",
       "dt                                                                \n",
       "2015-07-22 03:45:00  0.932784  0.771055  0.839542         0.189867\n",
       "2015-07-22 04:00:00  0.940946  0.741060  0.808993         0.189930\n",
       "2015-07-22 04:15:00  0.937501  0.724199  0.812607         0.190596\n",
       "2015-07-22 04:30:00  0.916327  0.699518  0.816105         0.191538\n",
       "2015-07-22 04:45:00  0.870975  0.669305  0.819476         0.192702"
      ]
     },
     "execution_count": 34,
     "metadata": {},
     "output_type": "execute_result"
    }
   ],
   "source": [
    "data['PM1'] = data['PM1'].convert_objects(convert_numeric=True)\n",
    "data['PM2'] = data['PM2'].convert_objects(convert_numeric=True)\n",
    "type(data['PM1'][1])\n",
    "\n",
    "inputSum = data['PM1']+data['PM2']\n",
    "weightedX = data['PM1'] * W1\n",
    "weightedY = data['PM2'] * W2\n",
    "\n",
    "weightedAverage = (weightedX + weightedY) / inputSum\n",
    "data['WeightedAverage'] = weightedAverage\n",
    "data.head()"
   ]
  },
  {
   "cell_type": "code",
   "execution_count": 35,
   "metadata": {},
   "outputs": [
    {
     "name": "stdout",
     "output_type": "stream",
     "text": [
      "Done.\n",
      "R-squared: -1.040\n",
      "RMSE: 0.455 \n",
      "MAE: 0.358\n"
     ]
    }
   ],
   "source": [
    "from sklearn.metrics.regression import r2_score, mean_squared_error, mean_absolute_error\n",
    "\n",
    "y_test = data.Actual\n",
    "p = data.WeightedAverage\n",
    "\n",
    "r2score = r2_score(y_test, p)\n",
    "rmse = np.sqrt(mean_squared_error(y_test, p))\n",
    "mae = mean_absolute_error(y_test, p)\n",
    "print('Done.\\nR-squared: %.3f\\nRMSE: %.3f \\nMAE: %.3f' % (r2score, rmse, mae))"
   ]
  }
 ],
 "metadata": {
  "kernelspec": {
   "display_name": "Python 3",
   "language": "python",
   "name": "python3"
  },
  "language_info": {
   "codemirror_mode": {
    "name": "ipython",
    "version": 3
   },
   "file_extension": ".py",
   "mimetype": "text/x-python",
   "name": "python",
   "nbconvert_exporter": "python",
   "pygments_lexer": "ipython3",
   "version": "3.5.5"
  }
 },
 "nbformat": 4,
 "nbformat_minor": 2
}
