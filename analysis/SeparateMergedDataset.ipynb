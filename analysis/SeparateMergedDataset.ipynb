{
 "cells": [
  {
   "cell_type": "code",
   "execution_count": 20,
   "metadata": {},
   "outputs": [],
   "source": [
    "import numpy as np\n",
    "import pandas as pd\n",
    "import os"
   ]
  },
  {
   "cell_type": "code",
   "execution_count": 47,
   "metadata": {},
   "outputs": [],
   "source": [
    "ROADS_1 = ['A. Maceda', 'Anda Circle', 'Antipolo',\n",
    "         'Bluementritt', 'Buendia', 'Edsa Extension', 'Finance Road', \n",
    "         'Gov. Forbes - Lacson', 'Lerma', 'Magsaysay Ave', 'P.Noval', 'Pablo Ocampo', 'Pedro Gil', \n",
    "         'Quezon Ave.', 'Quirino', 'Rajah Sulayman', 'Taft Ave.', 'U.N. Avenue',\n",
    "         'Vicente Cruz']\n",
    "\n",
    "YEAR = \"2015\"\n",
    "EXT = \".csv\"\n",
    "\n",
    "DATASET_DIVISION = \"workingDayPeakHour\"\n",
    "DATASET_DIR = \"../../../../datasets/\""
   ]
  },
  {
   "cell_type": "code",
   "execution_count": 48,
   "metadata": {},
   "outputs": [
    {
     "name": "stdout",
     "output_type": "stream",
     "text": [
      "File A. Maceda exported in ../../../../datasets/mmda-wwo/raw/2015/workingDayPeakHour/mmda\n",
      "File Anda Circle exported in ../../../../datasets/mmda-wwo/raw/2015/workingDayPeakHour/mmda\n",
      "File Antipolo exported in ../../../../datasets/mmda-wwo/raw/2015/workingDayPeakHour/mmda\n",
      "File Bluementritt exported in ../../../../datasets/mmda-wwo/raw/2015/workingDayPeakHour/mmda\n",
      "File Buendia exported in ../../../../datasets/mmda-wwo/raw/2015/workingDayPeakHour/mmda\n",
      "File Edsa Extension exported in ../../../../datasets/mmda-wwo/raw/2015/workingDayPeakHour/mmda\n",
      "File Finance Road exported in ../../../../datasets/mmda-wwo/raw/2015/workingDayPeakHour/mmda\n",
      "File Gov. Forbes - Lacson exported in ../../../../datasets/mmda-wwo/raw/2015/workingDayPeakHour/mmda\n",
      "File Lerma exported in ../../../../datasets/mmda-wwo/raw/2015/workingDayPeakHour/mmda\n",
      "File Magsaysay Ave exported in ../../../../datasets/mmda-wwo/raw/2015/workingDayPeakHour/mmda\n",
      "File P.Noval exported in ../../../../datasets/mmda-wwo/raw/2015/workingDayPeakHour/mmda\n",
      "File Pablo Ocampo exported in ../../../../datasets/mmda-wwo/raw/2015/workingDayPeakHour/mmda\n",
      "File Pedro Gil exported in ../../../../datasets/mmda-wwo/raw/2015/workingDayPeakHour/mmda\n",
      "File Quezon Ave. exported in ../../../../datasets/mmda-wwo/raw/2015/workingDayPeakHour/mmda\n",
      "File Quirino exported in ../../../../datasets/mmda-wwo/raw/2015/workingDayPeakHour/mmda\n",
      "File Rajah Sulayman exported in ../../../../datasets/mmda-wwo/raw/2015/workingDayPeakHour/mmda\n",
      "File Taft Ave. exported in ../../../../datasets/mmda-wwo/raw/2015/workingDayPeakHour/mmda\n",
      "File U.N. Avenue exported in ../../../../datasets/mmda-wwo/raw/2015/workingDayPeakHour/mmda\n",
      "File Vicente Cruz exported in ../../../../datasets/mmda-wwo/raw/2015/workingDayPeakHour/mmda\n"
     ]
    }
   ],
   "source": [
    "TRAFFIC_LIST = []\n",
    "\n",
    "DIR = DATASET_DIR + \"mmda-wwo/raw/\" + YEAR + \"/\" + DATASET_DIVISION \n",
    "EXPORT_DIR = DIR + \"/mmda\"\n",
    "if not os.path.exists(EXPORT_DIR):\n",
    "        os.makedirs(EXPORT_DIR)\n",
    "\n",
    "for t in ROADS_1:\n",
    "    ROAD = t\n",
    "    TRAFFIC_FILENAME = \"raw_mmda_wwo_\" + ROAD + \"_\" + YEAR + \"_\" + DATASET_DIVISION\n",
    "    try:\n",
    "        traffic_raw_data = pd.read_csv(DIR + \"/\" + TRAFFIC_FILENAME + EXT, skipinitialspace=True)\n",
    "    except FileNotFoundError: \n",
    "        print(\"File not found... file: \" + TRAFFIC_FILENAME)\n",
    "        continue\n",
    "\n",
    "    traffic_raw_data = traffic_raw_data.fillna(0)\n",
    "    traffic_dataset = traffic_raw_data\n",
    "\n",
    "    cols_to_remove = range(3,len(traffic_raw_data.columns))\n",
    "\n",
    "    traffic_dataset.drop(traffic_raw_data.columns[[cols_to_remove]], axis=1, inplace=True)\n",
    "    TRAFFIC_LIST.append(traffic_dataset)\n",
    "    \n",
    "    TRAFFIC_FILENAME = \"raw_mmda_\" + ROAD + \"_\" + YEAR + \"_\" + DATASET_DIVISION\n",
    "    traffic_dataset.to_csv(EXPORT_DIR + \"/\" + TRAFFIC_FILENAME + EXT, encoding='utf-8')\n",
    "    print(\"File \" + ROAD + \" exported in \" + EXPORT_DIR)"
   ]
  },
  {
   "cell_type": "code",
   "execution_count": 49,
   "metadata": {},
   "outputs": [
    {
     "name": "stdout",
     "output_type": "stream",
     "text": [
      "File WWO exported in ../../../../datasets/mmda-wwo/raw/2015/workingDayPeakHour/wwo\n"
     ]
    }
   ],
   "source": [
    "TRAFFIC_LIST = []\n",
    "\n",
    "DIR = DATASET_DIR + \"mmda-wwo/raw/\" + YEAR + \"/\" + DATASET_DIVISION \n",
    "EXPORT_DIR = DIR + \"/wwo\"\n",
    "if not os.path.exists(EXPORT_DIR):\n",
    "        os.makedirs(EXPORT_DIR)\n",
    "        \n",
    "WEATHER_FILENAME = \"raw_mmda_wwo_\" + ROADS_1[0] + \"_\" + YEAR + \"_\" + DATASET_DIVISION\n",
    "weather_dataset = pd.read_csv(DIR + \"/\" + WEATHER_FILENAME + EXT, skipinitialspace=True)\n",
    "weather_dataset = weather_dataset.fillna(0)\n",
    "\n",
    "cols_to_remove = [1, 2] #removes traffic data\n",
    "weather_dataset = weather_dataset.drop(weather_dataset.columns[[cols_to_remove]], axis=1)\n",
    "\n",
    "WEATHER_FILENAME = \"raw_wwo_\" + YEAR + \"_\" + DATASET_DIVISION\n",
    "weather_dataset.to_csv(EXPORT_DIR + \"/\" + WEATHER_FILENAME + EXT, encoding='utf-8')\n",
    "print(\"File WWO exported in \" + EXPORT_DIR)"
   ]
  },
  {
   "cell_type": "code",
   "execution_count": null,
   "metadata": {},
   "outputs": [],
   "source": []
  }
 ],
 "metadata": {
  "kernelspec": {
   "display_name": "Python 3",
   "language": "python",
   "name": "python3"
  },
  "language_info": {
   "codemirror_mode": {
    "name": "ipython",
    "version": 3
   },
   "file_extension": ".py",
   "mimetype": "text/x-python",
   "name": "python",
   "nbconvert_exporter": "python",
   "pygments_lexer": "ipython3",
   "version": "3.5.5"
  }
 },
 "nbformat": 4,
 "nbformat_minor": 2
}
