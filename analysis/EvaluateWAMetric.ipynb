{
 "cells": [
  {
   "cell_type": "code",
   "execution_count": 23,
   "metadata": {},
   "outputs": [],
   "source": [
    "import numpy as np\n",
    "import pandas as pd\n",
    "\n",
    "from sklearn.metrics.regression import r2_score, mean_squared_error, mean_absolute_error\n",
    "from sklearn.model_selection import train_test_split\n",
    "from sklearn.preprocessing import MinMaxScaler\n"
   ]
  },
  {
   "cell_type": "code",
   "execution_count": 41,
   "metadata": {},
   "outputs": [],
   "source": [
    "EXT = \".csv\"\n",
    "FILENAME1 = \"WeightedResults_PM1W1-PM2W2\"\n",
    "FILENAME2 = \"WeightedResults_PM1W2-PM2W1\"\n",
    "\n",
    "DIR = \"For Fusion/TAFT-2 WA/\"\n",
    "\n",
    "d1 = pd.read_csv(DIR + FILENAME1 + EXT, skipinitialspace=True)\n",
    "d2 = pd.read_csv(DIR + FILENAME2 + EXT, skipinitialspace=True)\n",
    "\n",
    "actual = pd.read_csv(\"For Fusion/2-TAFT (Tr.Taffic, hum,hum9)/fc_output_Taft Ave._2015\" + EXT, skipinitialspace=True)\n",
    "\n",
    "d1 = d1[:actual.shape[0]]\n",
    "d2 = d2[:actual.shape[0]]\n",
    "#actual.head()"
   ]
  },
  {
   "cell_type": "code",
   "execution_count": 44,
   "metadata": {},
   "outputs": [
    {
     "name": "stdout",
     "output_type": "stream",
     "text": [
      "Done.\n",
      "R-squared: -1.243063\n",
      "MSE: 0.083395\n",
      "MAE: 0.222227\n"
     ]
    }
   ],
   "source": [
    "Y_test = actual.Actual\n",
    "Y_pred = d1.WeightedAverage\n",
    "\n",
    "print('Done.\\nR-squared: %f\\nMSE: %f' % (r2_score(Y_test, Y_pred), mean_squared_error(Y_test, Y_pred)))\n",
    "print('MAE: %f' %(mean_absolute_error(Y_test, Y_pred)))"
   ]
  },
  {
   "cell_type": "code",
   "execution_count": 45,
   "metadata": {},
   "outputs": [
    {
     "name": "stdout",
     "output_type": "stream",
     "text": [
      "Done.\n",
      "R-squared: -1.243063\n",
      "MSE: 0.083395\n",
      "MAE: 0.222227\n"
     ]
    }
   ],
   "source": [
    "Y_test = actual.Actual\n",
    "Y_pred = d2.WeightedAverage\n",
    "\n",
    "print('Done.\\nR-squared: %f\\nMSE: %f' % (r2_score(Y_test, Y_pred), mean_squared_error(Y_test, Y_pred)))\n",
    "print('MAE: %f' %(mean_absolute_error(Y_test, Y_pred)))"
   ]
  },
  {
   "cell_type": "code",
   "execution_count": null,
   "metadata": {},
   "outputs": [],
   "source": []
  },
  {
   "cell_type": "code",
   "execution_count": null,
   "metadata": {},
   "outputs": [],
   "source": []
  }
 ],
 "metadata": {
  "kernelspec": {
   "display_name": "Python 3",
   "language": "python",
   "name": "python3"
  },
  "language_info": {
   "codemirror_mode": {
    "name": "ipython",
    "version": 3
   },
   "file_extension": ".py",
   "mimetype": "text/x-python",
   "name": "python",
   "nbconvert_exporter": "python",
   "pygments_lexer": "ipython3",
   "version": "3.5.4"
  }
 },
 "nbformat": 4,
 "nbformat_minor": 2
}
