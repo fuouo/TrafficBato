{
 "cells": [
  {
   "cell_type": "code",
   "execution_count": 24,
   "metadata": {},
   "outputs": [],
   "source": [
    "import numpy as np\n",
    "import pandas as pd\n",
    "\n",
    "from matplotlib import pyplot\n",
    "from sklearn.model_selection import train_test_split\n",
    "from sklearn.metrics.classification import accuracy_score\n",
    "from sklearn.preprocessing import MinMaxScaler\n",
    "from sklearn.metrics.regression import r2_score, mean_squared_error, mean_absolute_error\n",
    "from sklearn.preprocessing import MinMaxScaler\n",
    "\n",
    "##If Tensorflow\n",
    "#from dbn.tensorflow import SupervisedDBNRegression\n",
    "##If Numpy\n",
    "from dbn.tensorflow import SupervisedDBNRegression"
   ]
  },
  {
   "cell_type": "code",
   "execution_count": 13,
   "metadata": {},
   "outputs": [],
   "source": [
    "RBM_EPOCHS = 2\n",
    "DBN_EPOCHS = 5\n",
    "RBM_LEARNING_RATE = 0.01\n",
    "DBN_LEARNING_RATE = 0.01\n",
    "HIDDEN_LAYER_STRUCT = [5, 10, 15]\n",
    "ACTIVE_FUNC = 'relu'\n",
    "BATCH_SIZE = 28"
   ]
  },
  {
   "cell_type": "code",
   "execution_count": 14,
   "metadata": {},
   "outputs": [],
   "source": [
    "# Read the dataset\n",
    "ROAD = \"Taft Ave.\"\n",
    "YEAR = \"2015\"\n",
    "EXT = \".csv\""
   ]
  },
  {
   "cell_type": "markdown",
   "metadata": {},
   "source": [
    "##### Preparing Traffic Dataset"
   ]
  },
  {
   "cell_type": "code",
   "execution_count": 15,
   "metadata": {},
   "outputs": [
    {
     "data": {
      "text/html": [
       "<div>\n",
       "<style scoped>\n",
       "    .dataframe tbody tr th:only-of-type {\n",
       "        vertical-align: middle;\n",
       "    }\n",
       "\n",
       "    .dataframe tbody tr th {\n",
       "        vertical-align: top;\n",
       "    }\n",
       "\n",
       "    .dataframe thead th {\n",
       "        text-align: right;\n",
       "    }\n",
       "</style>\n",
       "<table border=\"1\" class=\"dataframe\">\n",
       "  <thead>\n",
       "    <tr style=\"text-align: right;\">\n",
       "      <th></th>\n",
       "      <th>statusN</th>\n",
       "      <th>statusS</th>\n",
       "    </tr>\n",
       "  </thead>\n",
       "  <tbody>\n",
       "    <tr>\n",
       "      <th>0</th>\n",
       "      <td>0.231394</td>\n",
       "      <td>0.408168</td>\n",
       "    </tr>\n",
       "    <tr>\n",
       "      <th>1</th>\n",
       "      <td>0.237548</td>\n",
       "      <td>0.407201</td>\n",
       "    </tr>\n",
       "    <tr>\n",
       "      <th>2</th>\n",
       "      <td>0.243492</td>\n",
       "      <td>0.406253</td>\n",
       "    </tr>\n",
       "    <tr>\n",
       "      <th>3</th>\n",
       "      <td>0.249231</td>\n",
       "      <td>0.405322</td>\n",
       "    </tr>\n",
       "    <tr>\n",
       "      <th>4</th>\n",
       "      <td>0.254765</td>\n",
       "      <td>0.404408</td>\n",
       "    </tr>\n",
       "  </tbody>\n",
       "</table>\n",
       "</div>"
      ],
      "text/plain": [
       "    statusN   statusS\n",
       "0  0.231394  0.408168\n",
       "1  0.237548  0.407201\n",
       "2  0.243492  0.406253\n",
       "3  0.249231  0.405322\n",
       "4  0.254765  0.404408"
      ]
     },
     "execution_count": 15,
     "metadata": {},
     "output_type": "execute_result"
    }
   ],
   "source": [
    "TRAFFIC_WINDOWSIZE = 4\n",
    "TRANSFORMED = True\n",
    "TRAFFIC_DIR = \"../../../datasets/Thesis Datasets/mmda/\"\n",
    "\n",
    "if TRANSFORMED:\n",
    "    TRAFFIC_FILENAME = \"eng_win\" + str(TRAFFIC_WINDOWSIZE) + \"_mmda_\" + ROAD + \"_\" + YEAR + \"_transformed\"\n",
    "else:\n",
    "    TRAFFIC_FILENAME = \"eng_win\" + str(TRAFFIC_WINDOWSIZE) + \"_mmda_\" + ROAD + \"_\" + YEAR \n",
    "\n",
    "traffic_raw_data = pd.read_csv(TRAFFIC_DIR + TRAFFIC_FILENAME + EXT, skipinitialspace=True)\n",
    "traffic_raw_data = traffic_raw_data.fillna(0)\n",
    "traffic_dataset = traffic_raw_data\n",
    "\n",
    "cols_to_remove = [0, 1, 2]\n",
    "statusSN = list(range(5, 19)) #remove all engineered features\n",
    "cols_to_remove += statusSN\n",
    "\n",
    "traffic_dataset.drop(traffic_dataset.columns[[cols_to_remove]], axis=1, inplace=True)\n",
    "traffic_dataset.head()"
   ]
  },
  {
   "cell_type": "markdown",
   "metadata": {},
   "source": [
    "##### Preparing Weather Dataset"
   ]
  },
  {
   "cell_type": "code",
   "execution_count": 16,
   "metadata": {},
   "outputs": [
    {
     "data": {
      "text/html": [
       "<div>\n",
       "<style scoped>\n",
       "    .dataframe tbody tr th:only-of-type {\n",
       "        vertical-align: middle;\n",
       "    }\n",
       "\n",
       "    .dataframe tbody tr th {\n",
       "        vertical-align: top;\n",
       "    }\n",
       "\n",
       "    .dataframe thead th {\n",
       "        text-align: right;\n",
       "    }\n",
       "</style>\n",
       "<table border=\"1\" class=\"dataframe\">\n",
       "  <thead>\n",
       "    <tr style=\"text-align: right;\">\n",
       "      <th></th>\n",
       "      <th>tempC</th>\n",
       "      <th>windspeedKmph</th>\n",
       "      <th>cond</th>\n",
       "      <th>precipMM</th>\n",
       "      <th>humidity</th>\n",
       "      <th>visibility</th>\n",
       "      <th>pressure</th>\n",
       "      <th>cloudcover</th>\n",
       "      <th>dewPointC</th>\n",
       "      <th>windGustKmph</th>\n",
       "    </tr>\n",
       "  </thead>\n",
       "  <tbody>\n",
       "    <tr>\n",
       "      <th>0</th>\n",
       "      <td>0.2000</td>\n",
       "      <td>0.295455</td>\n",
       "      <td>0.631579</td>\n",
       "      <td>0.0</td>\n",
       "      <td>0.84058</td>\n",
       "      <td>1.0</td>\n",
       "      <td>0.758621</td>\n",
       "      <td>0.330</td>\n",
       "      <td>0.538462</td>\n",
       "      <td>0.236111</td>\n",
       "    </tr>\n",
       "    <tr>\n",
       "      <th>1</th>\n",
       "      <td>0.1875</td>\n",
       "      <td>0.295455</td>\n",
       "      <td>0.631579</td>\n",
       "      <td>0.0</td>\n",
       "      <td>0.84058</td>\n",
       "      <td>1.0</td>\n",
       "      <td>0.758621</td>\n",
       "      <td>0.325</td>\n",
       "      <td>0.538462</td>\n",
       "      <td>0.239583</td>\n",
       "    </tr>\n",
       "    <tr>\n",
       "      <th>2</th>\n",
       "      <td>0.1750</td>\n",
       "      <td>0.295455</td>\n",
       "      <td>0.631579</td>\n",
       "      <td>0.0</td>\n",
       "      <td>0.84058</td>\n",
       "      <td>1.0</td>\n",
       "      <td>0.758621</td>\n",
       "      <td>0.320</td>\n",
       "      <td>0.538462</td>\n",
       "      <td>0.243056</td>\n",
       "    </tr>\n",
       "    <tr>\n",
       "      <th>3</th>\n",
       "      <td>0.1625</td>\n",
       "      <td>0.295455</td>\n",
       "      <td>0.631579</td>\n",
       "      <td>0.0</td>\n",
       "      <td>0.84058</td>\n",
       "      <td>1.0</td>\n",
       "      <td>0.758621</td>\n",
       "      <td>0.315</td>\n",
       "      <td>0.538462</td>\n",
       "      <td>0.246528</td>\n",
       "    </tr>\n",
       "    <tr>\n",
       "      <th>4</th>\n",
       "      <td>0.1500</td>\n",
       "      <td>0.295455</td>\n",
       "      <td>0.631579</td>\n",
       "      <td>0.0</td>\n",
       "      <td>0.84058</td>\n",
       "      <td>1.0</td>\n",
       "      <td>0.758621</td>\n",
       "      <td>0.310</td>\n",
       "      <td>0.538462</td>\n",
       "      <td>0.250000</td>\n",
       "    </tr>\n",
       "  </tbody>\n",
       "</table>\n",
       "</div>"
      ],
      "text/plain": [
       "    tempC  windspeedKmph      cond  precipMM  humidity  visibility  pressure  \\\n",
       "0  0.2000       0.295455  0.631579       0.0   0.84058         1.0  0.758621   \n",
       "1  0.1875       0.295455  0.631579       0.0   0.84058         1.0  0.758621   \n",
       "2  0.1750       0.295455  0.631579       0.0   0.84058         1.0  0.758621   \n",
       "3  0.1625       0.295455  0.631579       0.0   0.84058         1.0  0.758621   \n",
       "4  0.1500       0.295455  0.631579       0.0   0.84058         1.0  0.758621   \n",
       "\n",
       "   cloudcover  dewPointC  windGustKmph  \n",
       "0       0.330   0.538462      0.236111  \n",
       "1       0.325   0.538462      0.239583  \n",
       "2       0.320   0.538462      0.243056  \n",
       "3       0.315   0.538462      0.246528  \n",
       "4       0.310   0.538462      0.250000  "
      ]
     },
     "execution_count": 16,
     "metadata": {},
     "output_type": "execute_result"
    }
   ],
   "source": [
    "WEATHER_WINDOWSIZE = 3\n",
    "WEATHER_DIR = \"../../../datasets/Thesis Datasets/wwo/\"\n",
    "WEATHER_FILENAME = \"eng_win\" + str(WEATHER_WINDOWSIZE) + \"_wwo_\" + YEAR\n",
    "weather_raw_data = pd.read_csv(WEATHER_DIR + WEATHER_FILENAME + EXT, skipinitialspace=True)\n",
    "weather_raw_data = weather_raw_data.fillna(0)\n",
    "\n",
    "weather_dataset = weather_raw_data\n",
    "\n",
    "cols_to_remove = [0, 1, 2] \n",
    "\n",
    "#For Window = >2\n",
    "temp = list(range(13, 17))\n",
    "temp2 = list(range(17, 20))\n",
    "windspeedkmph = list(range(20, 24))\n",
    "windspeedkmph2 = list(range(24, 27))\n",
    "cond = list(range(27, 31))\n",
    "cond2 = list(range(31, 34))\n",
    "precip = list(range(34, 38))\n",
    "precip2 = list(range(38, 41))\n",
    "humid = list(range(41, 45))\n",
    "humid2 = list(range(45, 48))\n",
    "visibility = list(range(48, 52))\n",
    "visibility2 = list(range(52, 55))\n",
    "pressure = list(range(55, 59))\n",
    "pressure2 = list(range(59, 62))\n",
    "cloudcover = list(range(62, 66))\n",
    "cloudcover2 = list(range(66, 69))\n",
    "dewpoint = list(range(69, 73))\n",
    "dewpoint2 = list(range(73, 76))\n",
    "windgustkmph = list(range(76, 80))\n",
    "windgustkmph2 = list(range(80, 83))\n",
    "\n",
    "#Window = 1\n",
    "#cols_to_remove += temp + visibility + pressure +  cloudcover + dewpoint + windgustkmph #Window = 1\n",
    "cols_to_remove += temp + windspeedkmph + cond + precip + humid + visibility + pressure +  cloudcover + dewpoint + windgustkmph #Window = 1\n",
    "\n",
    "#Window  >=2\n",
    "#cols_to_remove += precip2 + cond2 + humid2 + visibility2 + cloudcover2 + dewpoint2 + windgustkmph2\n",
    "cols_to_remove +=  temp2 + windspeedkmph2 + cond2 + precip2 + humid2 + visibility2 + pressure2 + cloudcover2 + dewpoint2 + windgustkmph2\n",
    "\n",
    "# 3 - 12\n",
    "#cols_to_remove += [7, 8, 9, 10] #Original Weather Variables\n",
    "#cols_to_remove += [3, 4, 5, 6, 7, 8, 9, 10, 11, 12] #Original Weather Variables\n",
    "\n",
    "weather_dataset = weather_dataset.drop(weather_dataset.columns[[cols_to_remove]], axis=1)\n",
    "weather_dataset.head()"
   ]
  },
  {
   "cell_type": "markdown",
   "metadata": {},
   "source": [
    "##### Preparing Flood Dataset"
   ]
  },
  {
   "cell_type": "code",
   "execution_count": 17,
   "metadata": {},
   "outputs": [
    {
     "data": {
      "text/html": [
       "<div>\n",
       "<style scoped>\n",
       "    .dataframe tbody tr th:only-of-type {\n",
       "        vertical-align: middle;\n",
       "    }\n",
       "\n",
       "    .dataframe tbody tr th {\n",
       "        vertical-align: top;\n",
       "    }\n",
       "\n",
       "    .dataframe thead th {\n",
       "        text-align: right;\n",
       "    }\n",
       "</style>\n",
       "<table border=\"1\" class=\"dataframe\">\n",
       "  <thead>\n",
       "    <tr style=\"text-align: right;\">\n",
       "      <th></th>\n",
       "      <th>WL [El.m]</th>\n",
       "    </tr>\n",
       "  </thead>\n",
       "  <tbody>\n",
       "    <tr>\n",
       "      <th>0</th>\n",
       "      <td>0.814856</td>\n",
       "    </tr>\n",
       "    <tr>\n",
       "      <th>1</th>\n",
       "      <td>0.814856</td>\n",
       "    </tr>\n",
       "    <tr>\n",
       "      <th>2</th>\n",
       "      <td>0.814856</td>\n",
       "    </tr>\n",
       "    <tr>\n",
       "      <th>3</th>\n",
       "      <td>0.814856</td>\n",
       "    </tr>\n",
       "    <tr>\n",
       "      <th>4</th>\n",
       "      <td>0.814856</td>\n",
       "    </tr>\n",
       "  </tbody>\n",
       "</table>\n",
       "</div>"
      ],
      "text/plain": [
       "   WL [El.m]\n",
       "0   0.814856\n",
       "1   0.814856\n",
       "2   0.814856\n",
       "3   0.814856\n",
       "4   0.814856"
      ]
     },
     "execution_count": 17,
     "metadata": {},
     "output_type": "execute_result"
    }
   ],
   "source": [
    "FLOOD_WINDOWSIZE = 5\n",
    "FLOOD_DIR = \"../../../datasets/Thesis Datasets/flood/\"\n",
    "FLOOD_FILENAME = \"eng_win\" + str(FLOOD_WINDOWSIZE) + \"_flood_\" + YEAR\n",
    "flood_raw_data = pd.read_csv(FLOOD_DIR + FLOOD_FILENAME + EXT, skipinitialspace=True)\n",
    "flood_raw_data = flood_raw_data.fillna(0)\n",
    "\n",
    "cols_to_remove = [0]\n",
    "\n",
    "flood = [2, 3, 4, 5]\n",
    "cols_to_remove += flood\n",
    "\n",
    "flood2 = list(range(6, 9))\n",
    "cols_to_remove += flood2\n",
    "\n",
    "flood_dataset = flood_raw_data\n",
    "flood_dataset = flood_dataset.drop(flood_dataset.columns[cols_to_remove], axis=1)\n",
    "flood_dataset.head()"
   ]
  },
  {
   "cell_type": "markdown",
   "metadata": {},
   "source": [
    "###### Merging weather and flood"
   ]
  },
  {
   "cell_type": "code",
   "execution_count": 18,
   "metadata": {},
   "outputs": [
    {
     "data": {
      "text/html": [
       "<div>\n",
       "<style scoped>\n",
       "    .dataframe tbody tr th:only-of-type {\n",
       "        vertical-align: middle;\n",
       "    }\n",
       "\n",
       "    .dataframe tbody tr th {\n",
       "        vertical-align: top;\n",
       "    }\n",
       "\n",
       "    .dataframe thead th {\n",
       "        text-align: right;\n",
       "    }\n",
       "</style>\n",
       "<table border=\"1\" class=\"dataframe\">\n",
       "  <thead>\n",
       "    <tr style=\"text-align: right;\">\n",
       "      <th></th>\n",
       "      <th>tempC</th>\n",
       "      <th>windspeedKmph</th>\n",
       "      <th>cond</th>\n",
       "      <th>precipMM</th>\n",
       "      <th>humidity</th>\n",
       "      <th>visibility</th>\n",
       "      <th>pressure</th>\n",
       "      <th>cloudcover</th>\n",
       "      <th>dewPointC</th>\n",
       "      <th>windGustKmph</th>\n",
       "      <th>WL [El.m]</th>\n",
       "    </tr>\n",
       "  </thead>\n",
       "  <tbody>\n",
       "    <tr>\n",
       "      <th>0</th>\n",
       "      <td>0.2000</td>\n",
       "      <td>0.295455</td>\n",
       "      <td>0.631579</td>\n",
       "      <td>0.0</td>\n",
       "      <td>0.84058</td>\n",
       "      <td>1.0</td>\n",
       "      <td>0.758621</td>\n",
       "      <td>0.330</td>\n",
       "      <td>0.538462</td>\n",
       "      <td>0.236111</td>\n",
       "      <td>0.814856</td>\n",
       "    </tr>\n",
       "    <tr>\n",
       "      <th>1</th>\n",
       "      <td>0.1875</td>\n",
       "      <td>0.295455</td>\n",
       "      <td>0.631579</td>\n",
       "      <td>0.0</td>\n",
       "      <td>0.84058</td>\n",
       "      <td>1.0</td>\n",
       "      <td>0.758621</td>\n",
       "      <td>0.325</td>\n",
       "      <td>0.538462</td>\n",
       "      <td>0.239583</td>\n",
       "      <td>0.814856</td>\n",
       "    </tr>\n",
       "    <tr>\n",
       "      <th>2</th>\n",
       "      <td>0.1750</td>\n",
       "      <td>0.295455</td>\n",
       "      <td>0.631579</td>\n",
       "      <td>0.0</td>\n",
       "      <td>0.84058</td>\n",
       "      <td>1.0</td>\n",
       "      <td>0.758621</td>\n",
       "      <td>0.320</td>\n",
       "      <td>0.538462</td>\n",
       "      <td>0.243056</td>\n",
       "      <td>0.814856</td>\n",
       "    </tr>\n",
       "    <tr>\n",
       "      <th>3</th>\n",
       "      <td>0.1625</td>\n",
       "      <td>0.295455</td>\n",
       "      <td>0.631579</td>\n",
       "      <td>0.0</td>\n",
       "      <td>0.84058</td>\n",
       "      <td>1.0</td>\n",
       "      <td>0.758621</td>\n",
       "      <td>0.315</td>\n",
       "      <td>0.538462</td>\n",
       "      <td>0.246528</td>\n",
       "      <td>0.814856</td>\n",
       "    </tr>\n",
       "    <tr>\n",
       "      <th>4</th>\n",
       "      <td>0.1500</td>\n",
       "      <td>0.295455</td>\n",
       "      <td>0.631579</td>\n",
       "      <td>0.0</td>\n",
       "      <td>0.84058</td>\n",
       "      <td>1.0</td>\n",
       "      <td>0.758621</td>\n",
       "      <td>0.310</td>\n",
       "      <td>0.538462</td>\n",
       "      <td>0.250000</td>\n",
       "      <td>0.814856</td>\n",
       "    </tr>\n",
       "  </tbody>\n",
       "</table>\n",
       "</div>"
      ],
      "text/plain": [
       "    tempC  windspeedKmph      cond  precipMM  humidity  visibility  pressure  \\\n",
       "0  0.2000       0.295455  0.631579       0.0   0.84058         1.0  0.758621   \n",
       "1  0.1875       0.295455  0.631579       0.0   0.84058         1.0  0.758621   \n",
       "2  0.1750       0.295455  0.631579       0.0   0.84058         1.0  0.758621   \n",
       "3  0.1625       0.295455  0.631579       0.0   0.84058         1.0  0.758621   \n",
       "4  0.1500       0.295455  0.631579       0.0   0.84058         1.0  0.758621   \n",
       "\n",
       "   cloudcover  dewPointC  windGustKmph  WL [El.m]  \n",
       "0       0.330   0.538462      0.236111   0.814856  \n",
       "1       0.325   0.538462      0.239583   0.814856  \n",
       "2       0.320   0.538462      0.243056   0.814856  \n",
       "3       0.315   0.538462      0.246528   0.814856  \n",
       "4       0.310   0.538462      0.250000   0.814856  "
      ]
     },
     "execution_count": 18,
     "metadata": {},
     "output_type": "execute_result"
    }
   ],
   "source": [
    "weather_dataset = pd.concat([weather_dataset, flood_dataset], axis=1)\n",
    "weather_dataset.head()"
   ]
  },
  {
   "cell_type": "markdown",
   "metadata": {},
   "source": [
    "##### Preparing Training Dataset"
   ]
  },
  {
   "cell_type": "code",
   "execution_count": 19,
   "metadata": {},
   "outputs": [],
   "source": [
    "shift = 1"
   ]
  },
  {
   "cell_type": "code",
   "execution_count": 20,
   "metadata": {},
   "outputs": [],
   "source": [
    "# To-be Predicted variable \n",
    "Y = traffic_dataset.statusS\n",
    "Y = Y.shift(-shift)\n",
    "Y = Y.fillna(0)\n",
    "Y = Y.round(5)\n",
    "Y = Y[:-shift]"
   ]
  },
  {
   "cell_type": "code",
   "execution_count": 21,
   "metadata": {},
   "outputs": [],
   "source": [
    "# Other data\n",
    "X = weather_dataset [:-shift]\n",
    "\n",
    "# Splitting data\n",
    "X_train, X_test, Y_train, Y_test = train_test_split(X, Y, test_size=0.33, shuffle=False)\n",
    "X_train = np.array(X_train)\n",
    "X_test = np.array(X_test)\n",
    "Y_train = np.array(Y_train)\n",
    "Y_test = np.array(Y_test)\n",
    "\n",
    "# Data scaling\n",
    "min_max_scaler = MinMaxScaler()\n",
    "X_train = min_max_scaler.fit_transform(X_train)"
   ]
  },
  {
   "cell_type": "code",
   "execution_count": 22,
   "metadata": {
    "scrolled": true
   },
   "outputs": [
    {
     "name": "stdout",
     "output_type": "stream",
     "text": [
      "[START] Pre-training step:\n",
      ">> Epoch 1 finished \tRBM Reconstruction error 0.456253\n",
      ">> Epoch 2 finished \tRBM Reconstruction error 0.383521\n",
      ">> Epoch 1 finished \tRBM Reconstruction error 0.054555\n",
      ">> Epoch 2 finished \tRBM Reconstruction error 0.055055\n",
      ">> Epoch 1 finished \tRBM Reconstruction error 0.007265\n",
      ">> Epoch 2 finished \tRBM Reconstruction error 0.007394\n",
      "[END] Pre-training step\n",
      "[START] Fine tuning step:\n",
      ">> Epoch 0 finished \tANN training loss 0.031943\n",
      ">> Epoch 1 finished \tANN training loss 0.031962\n",
      ">> Epoch 2 finished \tANN training loss 0.031895\n",
      ">> Epoch 3 finished \tANN training loss 0.031894\n",
      ">> Epoch 4 finished \tANN training loss 0.031869\n",
      "[END] Fine tuning step\n"
     ]
    },
    {
     "data": {
      "text/plain": [
       "SupervisedDBNRegression(batch_size=28, dropout_p=0, l2_regularization=1.0,\n",
       "            learning_rate=0.01, n_iter_backprop=5, verbose=True)"
      ]
     },
     "execution_count": 22,
     "metadata": {},
     "output_type": "execute_result"
    }
   ],
   "source": [
    "# Training\n",
    "regressor = SupervisedDBNRegression(hidden_layers_structure=HIDDEN_LAYER_STRUCT,\n",
    "                                    learning_rate_rbm=RBM_LEARNING_RATE,\n",
    "                                    learning_rate=DBN_LEARNING_RATE,\n",
    "                                    n_epochs_rbm=RBM_EPOCHS,\n",
    "                                    n_iter_backprop=DBN_EPOCHS,\n",
    "                                    batch_size=BATCH_SIZE,\n",
    "                                    activation_function=ACTIVE_FUNC)\n",
    "regressor.fit(X_train, Y_train)"
   ]
  },
  {
   "cell_type": "code",
   "execution_count": 25,
   "metadata": {},
   "outputs": [
    {
     "name": "stdout",
     "output_type": "stream",
     "text": [
      "[0.4562525148354326, 0.38352089060490013, 0.05455539, 0.05505467, 0.0072646323, 0.0073942286]\n",
      "[0.03194289, 0.031961888, 0.03189526, 0.031893637, 0.03186865]\n"
     ]
    }
   ],
   "source": [
    "#To check RBM Loss Errors:\n",
    "rbm_error = regressor.unsupervised_dbn.rbm_layers[0].rbm_loss_error\n",
    "#To check DBN Loss Errors\n",
    "dbn_error = regressor.dbn_loss_error"
   ]
  },
  {
   "cell_type": "code",
   "execution_count": null,
   "metadata": {},
   "outputs": [],
   "source": [
    "# Test\n",
    "X_test = min_max_scaler.transform(X_test)\n",
    "Y_pred = regressor.predict(X_test)\n",
    "\n",
    "r2score = r2_score(Y_test, Y_pred)\n",
    "rmse = np.sqrt(mean_squared_error(Y_test, Y_pred))\n",
    "mae = mean_absolute_error(Y_test, Y_pred)\n",
    "print('Done.\\nR-squared: %.3f\\nRMSE: %.3f \\nMAE: %.3f' % (r2score, rmse, mae))"
   ]
  },
  {
   "cell_type": "code",
   "execution_count": null,
   "metadata": {},
   "outputs": [],
   "source": [
    "# # Save the model\n",
    "# regressor.save('models/pm2_' + ROAD + '_' + YEAR + '.pkl')"
   ]
  },
  {
   "cell_type": "markdown",
   "metadata": {},
   "source": [
    "### Results and Analysis below"
   ]
  },
  {
   "cell_type": "markdown",
   "metadata": {},
   "source": [
    "##### Printing Predicted and Actual Results"
   ]
  },
  {
   "cell_type": "code",
   "execution_count": null,
   "metadata": {},
   "outputs": [],
   "source": [
    "print(len(Y_pred))\n",
    "\n",
    "traffic_raw_data = pd.read_csv(\"data/mmda/\" + TRAFFIC_FILENAME + EXT, skipinitialspace=True)\n",
    "startIndex = traffic_raw_data.shape[0] - Y_pred.shape[0]\n",
    "dt = traffic_raw_data.dt[startIndex:,]\n",
    "temp = []\n",
    "for i in range(len(Y_pred)):\n",
    "    temp.append(Y_pred[i][0])\n",
    "d = {'Predicted': temp, 'Actual': Y_test, 'dt':dt}\n",
    "\n",
    "df = pd.DataFrame(data=d)\n",
    "df.head()"
   ]
  },
  {
   "cell_type": "code",
   "execution_count": null,
   "metadata": {},
   "outputs": [],
   "source": [
    "df.to_csv(\"output/pm2_\" + ROAD + EXT, encoding='utf-8')"
   ]
  },
  {
   "cell_type": "markdown",
   "metadata": {},
   "source": [
    "#### Visualize trend of loss of RBM and DBN Training"
   ]
  },
  {
   "cell_type": "code",
   "execution_count": 26,
   "metadata": {},
   "outputs": [],
   "source": [
    "import matplotlib.pyplot as plt"
   ]
  },
  {
   "cell_type": "code",
   "execution_count": 29,
   "metadata": {},
   "outputs": [
    {
     "data": {
      "image/png": "[encoded data removed]",
      "text/plain": [
       "<Figure size 432x288 with 1 Axes>"
      ]
     },
     "metadata": {},
     "output_type": "display_data"
    },
    {
     "data": {
      "image/png": "[encoded data removed]",
      "text/plain": [
       "<Figure size 432x288 with 1 Axes>"
      ]
     },
     "metadata": {},
     "output_type": "display_data"
    },
    {
     "data": {
      "image/png": "[encoded data removed]",
      "text/plain": [
       "<Figure size 432x288 with 1 Axes>"
      ]
     },
     "metadata": {},
     "output_type": "display_data"
    }
   ],
   "source": [
    "line1 = rbm_error\n",
    "line2 = dbn_error\n",
    "x = range(0, RBM_EPOCHS * len(HIDDEN_LAYER_STRUCT))\n",
    "plt.plot(range(0, RBM_EPOCHS * len(HIDDEN_LAYER_STRUCT)), line1, c='red')\n",
    "plt.xticks(x)\n",
    "plt.xlabel(\"Iteration\")\n",
    "plt.ylabel(\"Error\")\n",
    "plt.show()\n",
    "\n",
    "plt.plot(range(DBN_EPOCHS), line2, c='blue')\n",
    "plt.xticks(x)\n",
    "plt.xlabel(\"Iteration\")\n",
    "plt.ylabel(\"Error\")\n",
    "plt.show()\n",
    "\n",
    "plt.plot(range(0, RBM_EPOCHS * len(HIDDEN_LAYER_STRUCT)), line1, c='red')\n",
    "plt.plot(range(DBN_EPOCHS), line2, c='blue')\n",
    "plt.xticks(x)\n",
    "plt.xlabel(\"Iteration\")\n",
    "plt.ylabel(\"Error\")\n",
    "plt.show()"
   ]
  }
 ],
 "metadata": {
  "kernelspec": {
   "display_name": "Python 3",
   "language": "python",
   "name": "python3"
  },
  "language_info": {
   "codemirror_mode": {
    "name": "ipython",
    "version": 3
   },
   "file_extension": ".py",
   "mimetype": "text/x-python",
   "name": "python",
   "nbconvert_exporter": "python",
   "pygments_lexer": "ipython3",
   "version": "3.5.5"
  },
  "widgets": {
   "application/vnd.jupyter.widget-state+json": {
    "state": {},
    "version_major": 2,
    "version_minor": 0
   }
  }
 },
 "nbformat": 4,
 "nbformat_minor": 2
}
