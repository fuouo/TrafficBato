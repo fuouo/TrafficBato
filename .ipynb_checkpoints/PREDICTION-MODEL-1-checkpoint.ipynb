{
 "cells": [
  {
   "cell_type": "code",
   "execution_count": 1,
   "metadata": {},
   "outputs": [],
   "source": [
    "import numpy as np\n",
    "import pandas as pd\n",
    "\n",
    "from sklearn.model_selection import train_test_split\n",
    "from sklearn.metrics.classification import accuracy_score\n",
    "from sklearn.preprocessing import MinMaxScaler\n",
    "from sklearn.metrics.regression import r2_score, mean_squared_error, mean_absolute_error\n",
    "\n",
    "#If Tensorflow\n",
    "from dbn.tensorflow import SupervisedDBNRegression\n",
    "#If Numpy\n",
    "#from dbn.tensorflow import SupervisedDBNRegression"
   ]
  },
  {
   "cell_type": "code",
   "execution_count": 24,
   "metadata": {},
   "outputs": [],
   "source": [
    "RBM_EPOCHS = 2\n",
    "DBN_EPOCHS = 5\n",
    "RBM_LEARNING_RATE = 0.01\n",
    "DBN_LEARNING_RATE = 0.01\n",
    "HIDDEN_LAYER_STRUCT = [5, 10, 15]\n",
    "ACTIVE_FUNC = 'relu'\n",
    "BATCH_SIZE = 28"
   ]
  },
  {
   "cell_type": "code",
   "execution_count": 2,
   "metadata": {},
   "outputs": [],
   "source": [
    "# Read the dataset\n",
    "ROAD = \"Taft Ave.\"\n",
    "YEAR = \"2015\"\n",
    "EXT = \".csv\"\n",
    "WINDOWSIZE = 4\n",
    "TRANSFORMED = True\n",
    "DIR = \"../../../datasets/Thesis Datasets/mmda/\"\n",
    "\n",
    "if TRANSFORMED:\n",
    "    FILENAME = \"eng_win\" + str(WINDOWSIZE) + \"_mmda_\" + ROAD + \"_\" + YEAR + \"_transformed\"\n",
    "else:\n",
    "    FILENAME = \"eng_win\" + str(WINDOWSIZE) + \"_mmda_\" + ROAD + \"_\" + YEAR "
   ]
  },
  {
   "cell_type": "code",
   "execution_count": 3,
   "metadata": {},
   "outputs": [
    {
     "data": {
      "text/html": [
       "<div>\n",
       "<style scoped>\n",
       "    .dataframe tbody tr th:only-of-type {\n",
       "        vertical-align: middle;\n",
       "    }\n",
       "\n",
       "    .dataframe tbody tr th {\n",
       "        vertical-align: top;\n",
       "    }\n",
       "\n",
       "    .dataframe thead th {\n",
       "        text-align: right;\n",
       "    }\n",
       "</style>\n",
       "<table border=\"1\" class=\"dataframe\">\n",
       "  <thead>\n",
       "    <tr style=\"text-align: right;\">\n",
       "      <th></th>\n",
       "      <th>dt</th>\n",
       "      <th>lineName</th>\n",
       "      <th>stationName</th>\n",
       "      <th>statusN</th>\n",
       "      <th>statusS</th>\n",
       "      <th>statusN_Emean</th>\n",
       "      <th>statusN_Emin</th>\n",
       "      <th>statusN_Emax</th>\n",
       "      <th>statusN_Esum</th>\n",
       "      <th>statusN_Rmean (window = 4)</th>\n",
       "      <th>statusN_Rmin  (window = 4)</th>\n",
       "      <th>statusN_Rmax  (window = 4)</th>\n",
       "      <th>statusS_Emean</th>\n",
       "      <th>statusS_Emin</th>\n",
       "      <th>statusS_Emax</th>\n",
       "      <th>statusS_Esum</th>\n",
       "      <th>statusS_Rmean (window = 4)</th>\n",
       "      <th>statusS_Rmin  (window = 4)</th>\n",
       "      <th>statusS_Rmax  (window = 4)</th>\n",
       "    </tr>\n",
       "  </thead>\n",
       "  <tbody>\n",
       "    <tr>\n",
       "      <th>0</th>\n",
       "      <td>01/01/2015 0:00</td>\n",
       "      <td>EDSA</td>\n",
       "      <td>Taft Ave.</td>\n",
       "      <td>0.231394</td>\n",
       "      <td>0.408168</td>\n",
       "      <td>0.231394</td>\n",
       "      <td>0.231394</td>\n",
       "      <td>0.231394</td>\n",
       "      <td>0.231394</td>\n",
       "      <td>0.000000</td>\n",
       "      <td>0.0</td>\n",
       "      <td>0.000000</td>\n",
       "      <td>0.408168</td>\n",
       "      <td>0.408168</td>\n",
       "      <td>0.408168</td>\n",
       "      <td>0.408168</td>\n",
       "      <td>0.000000</td>\n",
       "      <td>0.0</td>\n",
       "      <td>0.000000</td>\n",
       "    </tr>\n",
       "    <tr>\n",
       "      <th>1</th>\n",
       "      <td>01/01/2015 0:15</td>\n",
       "      <td>EDSA</td>\n",
       "      <td>Taft Ave.</td>\n",
       "      <td>0.237548</td>\n",
       "      <td>0.407201</td>\n",
       "      <td>0.234471</td>\n",
       "      <td>0.231394</td>\n",
       "      <td>0.237548</td>\n",
       "      <td>0.468942</td>\n",
       "      <td>0.000000</td>\n",
       "      <td>0.0</td>\n",
       "      <td>0.000000</td>\n",
       "      <td>0.407685</td>\n",
       "      <td>0.407201</td>\n",
       "      <td>0.408168</td>\n",
       "      <td>0.815369</td>\n",
       "      <td>0.000000</td>\n",
       "      <td>0.0</td>\n",
       "      <td>0.000000</td>\n",
       "    </tr>\n",
       "    <tr>\n",
       "      <th>2</th>\n",
       "      <td>01/01/2015 0:30</td>\n",
       "      <td>EDSA</td>\n",
       "      <td>Taft Ave.</td>\n",
       "      <td>0.243492</td>\n",
       "      <td>0.406253</td>\n",
       "      <td>0.237478</td>\n",
       "      <td>0.231394</td>\n",
       "      <td>0.243492</td>\n",
       "      <td>0.712434</td>\n",
       "      <td>0.000000</td>\n",
       "      <td>0.0</td>\n",
       "      <td>0.000000</td>\n",
       "      <td>0.407207</td>\n",
       "      <td>0.406253</td>\n",
       "      <td>0.408168</td>\n",
       "      <td>1.221622</td>\n",
       "      <td>0.000000</td>\n",
       "      <td>0.0</td>\n",
       "      <td>0.000000</td>\n",
       "    </tr>\n",
       "    <tr>\n",
       "      <th>3</th>\n",
       "      <td>01/01/2015 0:45</td>\n",
       "      <td>EDSA</td>\n",
       "      <td>Taft Ave.</td>\n",
       "      <td>0.249231</td>\n",
       "      <td>0.405322</td>\n",
       "      <td>0.240416</td>\n",
       "      <td>0.231394</td>\n",
       "      <td>0.249231</td>\n",
       "      <td>0.961665</td>\n",
       "      <td>0.057849</td>\n",
       "      <td>0.0</td>\n",
       "      <td>0.231394</td>\n",
       "      <td>0.406736</td>\n",
       "      <td>0.405322</td>\n",
       "      <td>0.408168</td>\n",
       "      <td>1.626944</td>\n",
       "      <td>0.102042</td>\n",
       "      <td>0.0</td>\n",
       "      <td>0.408168</td>\n",
       "    </tr>\n",
       "    <tr>\n",
       "      <th>4</th>\n",
       "      <td>01/01/2015 1:00</td>\n",
       "      <td>EDSA</td>\n",
       "      <td>Taft Ave.</td>\n",
       "      <td>0.254765</td>\n",
       "      <td>0.404408</td>\n",
       "      <td>0.243286</td>\n",
       "      <td>0.231394</td>\n",
       "      <td>0.254765</td>\n",
       "      <td>1.216430</td>\n",
       "      <td>0.117235</td>\n",
       "      <td>0.0</td>\n",
       "      <td>0.468942</td>\n",
       "      <td>0.406270</td>\n",
       "      <td>0.404408</td>\n",
       "      <td>0.408168</td>\n",
       "      <td>2.031352</td>\n",
       "      <td>0.203842</td>\n",
       "      <td>0.0</td>\n",
       "      <td>0.815369</td>\n",
       "    </tr>\n",
       "  </tbody>\n",
       "</table>\n",
       "</div>"
      ],
      "text/plain": [
       "                dt lineName stationName   statusN   statusS  statusN_Emean  \\\n",
       "0  01/01/2015 0:00     EDSA   Taft Ave.  0.231394  0.408168       0.231394   \n",
       "1  01/01/2015 0:15     EDSA   Taft Ave.  0.237548  0.407201       0.234471   \n",
       "2  01/01/2015 0:30     EDSA   Taft Ave.  0.243492  0.406253       0.237478   \n",
       "3  01/01/2015 0:45     EDSA   Taft Ave.  0.249231  0.405322       0.240416   \n",
       "4  01/01/2015 1:00     EDSA   Taft Ave.  0.254765  0.404408       0.243286   \n",
       "\n",
       "   statusN_Emin  statusN_Emax  statusN_Esum  statusN_Rmean (window = 4)  \\\n",
       "0      0.231394      0.231394      0.231394                    0.000000   \n",
       "1      0.231394      0.237548      0.468942                    0.000000   \n",
       "2      0.231394      0.243492      0.712434                    0.000000   \n",
       "3      0.231394      0.249231      0.961665                    0.057849   \n",
       "4      0.231394      0.254765      1.216430                    0.117235   \n",
       "\n",
       "   statusN_Rmin  (window = 4)  statusN_Rmax  (window = 4)  statusS_Emean  \\\n",
       "0                         0.0                    0.000000       0.408168   \n",
       "1                         0.0                    0.000000       0.407685   \n",
       "2                         0.0                    0.000000       0.407207   \n",
       "3                         0.0                    0.231394       0.406736   \n",
       "4                         0.0                    0.468942       0.406270   \n",
       "\n",
       "   statusS_Emin  statusS_Emax  statusS_Esum  statusS_Rmean (window = 4)  \\\n",
       "0      0.408168      0.408168      0.408168                    0.000000   \n",
       "1      0.407201      0.408168      0.815369                    0.000000   \n",
       "2      0.406253      0.408168      1.221622                    0.000000   \n",
       "3      0.405322      0.408168      1.626944                    0.102042   \n",
       "4      0.404408      0.408168      2.031352                    0.203842   \n",
       "\n",
       "   statusS_Rmin  (window = 4)  statusS_Rmax  (window = 4)  \n",
       "0                         0.0                    0.000000  \n",
       "1                         0.0                    0.000000  \n",
       "2                         0.0                    0.000000  \n",
       "3                         0.0                    0.408168  \n",
       "4                         0.0                    0.815369  "
      ]
     },
     "execution_count": 3,
     "metadata": {},
     "output_type": "execute_result"
    }
   ],
   "source": [
    "original_dataset = pd.read_csv(DIR + FILENAME + EXT, skipinitialspace=True)\n",
    "original_dataset = original_dataset.fillna(0)\n",
    "original_dataset.head()"
   ]
  },
  {
   "cell_type": "markdown",
   "metadata": {},
   "source": [
    "##### Preparing Traffic Dataset"
   ]
  },
  {
   "cell_type": "code",
   "execution_count": 4,
   "metadata": {},
   "outputs": [
    {
     "data": {
      "text/html": [
       "<div>\n",
       "<style scoped>\n",
       "    .dataframe tbody tr th:only-of-type {\n",
       "        vertical-align: middle;\n",
       "    }\n",
       "\n",
       "    .dataframe tbody tr th {\n",
       "        vertical-align: top;\n",
       "    }\n",
       "\n",
       "    .dataframe thead th {\n",
       "        text-align: right;\n",
       "    }\n",
       "</style>\n",
       "<table border=\"1\" class=\"dataframe\">\n",
       "  <thead>\n",
       "    <tr style=\"text-align: right;\">\n",
       "      <th></th>\n",
       "      <th>statusN</th>\n",
       "      <th>statusS</th>\n",
       "      <th>statusN_Rmean (window = 4)</th>\n",
       "      <th>statusN_Rmin  (window = 4)</th>\n",
       "      <th>statusN_Rmax  (window = 4)</th>\n",
       "      <th>statusS_Rmean (window = 4)</th>\n",
       "      <th>statusS_Rmin  (window = 4)</th>\n",
       "      <th>statusS_Rmax  (window = 4)</th>\n",
       "    </tr>\n",
       "  </thead>\n",
       "  <tbody>\n",
       "    <tr>\n",
       "      <th>0</th>\n",
       "      <td>0.231394</td>\n",
       "      <td>0.408168</td>\n",
       "      <td>0.000000</td>\n",
       "      <td>0.0</td>\n",
       "      <td>0.000000</td>\n",
       "      <td>0.000000</td>\n",
       "      <td>0.0</td>\n",
       "      <td>0.000000</td>\n",
       "    </tr>\n",
       "    <tr>\n",
       "      <th>1</th>\n",
       "      <td>0.237548</td>\n",
       "      <td>0.407201</td>\n",
       "      <td>0.000000</td>\n",
       "      <td>0.0</td>\n",
       "      <td>0.000000</td>\n",
       "      <td>0.000000</td>\n",
       "      <td>0.0</td>\n",
       "      <td>0.000000</td>\n",
       "    </tr>\n",
       "    <tr>\n",
       "      <th>2</th>\n",
       "      <td>0.243492</td>\n",
       "      <td>0.406253</td>\n",
       "      <td>0.000000</td>\n",
       "      <td>0.0</td>\n",
       "      <td>0.000000</td>\n",
       "      <td>0.000000</td>\n",
       "      <td>0.0</td>\n",
       "      <td>0.000000</td>\n",
       "    </tr>\n",
       "    <tr>\n",
       "      <th>3</th>\n",
       "      <td>0.249231</td>\n",
       "      <td>0.405322</td>\n",
       "      <td>0.057849</td>\n",
       "      <td>0.0</td>\n",
       "      <td>0.231394</td>\n",
       "      <td>0.102042</td>\n",
       "      <td>0.0</td>\n",
       "      <td>0.408168</td>\n",
       "    </tr>\n",
       "    <tr>\n",
       "      <th>4</th>\n",
       "      <td>0.254765</td>\n",
       "      <td>0.404408</td>\n",
       "      <td>0.117235</td>\n",
       "      <td>0.0</td>\n",
       "      <td>0.468942</td>\n",
       "      <td>0.203842</td>\n",
       "      <td>0.0</td>\n",
       "      <td>0.815369</td>\n",
       "    </tr>\n",
       "  </tbody>\n",
       "</table>\n",
       "</div>"
      ],
      "text/plain": [
       "    statusN   statusS  statusN_Rmean (window = 4)  statusN_Rmin  (window = 4)  \\\n",
       "0  0.231394  0.408168                    0.000000                         0.0   \n",
       "1  0.237548  0.407201                    0.000000                         0.0   \n",
       "2  0.243492  0.406253                    0.000000                         0.0   \n",
       "3  0.249231  0.405322                    0.057849                         0.0   \n",
       "4  0.254765  0.404408                    0.117235                         0.0   \n",
       "\n",
       "   statusN_Rmax  (window = 4)  statusS_Rmean (window = 4)  \\\n",
       "0                    0.000000                    0.000000   \n",
       "1                    0.000000                    0.000000   \n",
       "2                    0.000000                    0.000000   \n",
       "3                    0.231394                    0.102042   \n",
       "4                    0.468942                    0.203842   \n",
       "\n",
       "   statusS_Rmin  (window = 4)  statusS_Rmax  (window = 4)  \n",
       "0                         0.0                    0.000000  \n",
       "1                         0.0                    0.000000  \n",
       "2                         0.0                    0.000000  \n",
       "3                         0.0                    0.408168  \n",
       "4                         0.0                    0.815369  "
      ]
     },
     "execution_count": 4,
     "metadata": {},
     "output_type": "execute_result"
    }
   ],
   "source": [
    "traffic_dataset = pd.read_csv(DIR + FILENAME + EXT, skipinitialspace=True)\n",
    "traffic_dataset = traffic_dataset.fillna(0)\n",
    "# Remove date time. Remove unused columms\n",
    "#0-2 = dt + lineName + stationName || 3-4 - statusN - statusS || 5-14 - original weather variables\n",
    "#15-46 - engineered traffic\n",
    "cols_to_remove = [0, 1, 2]\n",
    "\n",
    "# window 1\n",
    "statusN = list(range(5, 9))\n",
    "statusS = list(range(12, 16))\n",
    "\n",
    "cols_to_remove += statusN + statusS\n",
    "\n",
    "# window >= 2\n",
    "statusN2 = list(range(9, 12))\n",
    "statusS2 = list(range(16, 19))\n",
    "\n",
    "#cols_to_remove += statusN2 + statusS2\n",
    "\n",
    "#cols_to_remove += [3, 4] #statusN , statusS\n",
    "\n",
    "traffic_dataset.drop(traffic_dataset.columns[[cols_to_remove]], axis=1, inplace=True)\n",
    "traffic_dataset.head()"
   ]
  },
  {
   "cell_type": "code",
   "execution_count": 5,
   "metadata": {},
   "outputs": [],
   "source": [
    "shift = 1"
   ]
  },
  {
   "cell_type": "code",
   "execution_count": 6,
   "metadata": {},
   "outputs": [],
   "source": [
    "# To-be Predicted variable \n",
    "Y = traffic_dataset.statusS\n",
    "Y = Y.shift(-shift)\n",
    "Y = Y.fillna(0)\n",
    "Y = Y[:-shift]"
   ]
  },
  {
   "cell_type": "code",
   "execution_count": 7,
   "metadata": {},
   "outputs": [],
   "source": [
    "# Other data\n",
    "X = traffic_dataset [:-shift]\n",
    "#X = dataset\n",
    "#X.statusS = X.statusS.round(5)\n",
    "\n",
    "# Splitting data\n",
    "X_train, X_test, Y_train, Y_test = train_test_split(X, Y, test_size=0.67, shuffle=False)\n",
    "X_train = np.array(X_train)\n",
    "X_test = np.array(X_test)\n",
    "Y_train = np.array(Y_train)\n",
    "Y_test = np.array(Y_test)\n",
    "\n",
    "# Data scaling\n",
    "min_max_scaler = MinMaxScaler()\n",
    "X_train = min_max_scaler.fit_transform(X_train)"
   ]
  },
  {
   "cell_type": "code",
   "execution_count": 8,
   "metadata": {},
   "outputs": [
    {
     "name": "stdout",
     "output_type": "stream",
     "text": [
      "[START] Pre-training step:\n",
      ">> Epoch 1 finished \tRBM Reconstruction error 0.198142\n",
      ">> Epoch 2 finished \tRBM Reconstruction error 0.171152\n",
      ">> Epoch 1 finished \tRBM Reconstruction error 0.056649\n",
      ">> Epoch 2 finished \tRBM Reconstruction error 0.053266\n",
      ">> Epoch 1 finished \tRBM Reconstruction error 0.024816\n",
      ">> Epoch 2 finished \tRBM Reconstruction error 0.024656\n",
      "[END] Pre-training step\n",
      "[START] Fine tuning step:\n",
      ">> Epoch 1 finished \tANN training loss 0.046256\n",
      ">> Epoch 2 finished \tANN training loss 0.031797\n",
      ">> Epoch 3 finished \tANN training loss 0.030987\n",
      ">> Epoch 4 finished \tANN training loss 0.030143\n",
      ">> Epoch 5 finished \tANN training loss 0.029201\n",
      "[END] Fine tuning step\n"
     ]
    },
    {
     "data": {
      "text/plain": [
       "SupervisedDBNRegression()"
      ]
     },
     "execution_count": 8,
     "metadata": {},
     "output_type": "execute_result"
    }
   ],
   "source": [
    "# Training\n",
    "regressor = SupervisedDBNRegression(hidden_layers_structure=[5, 10, 15],\n",
    "                                    learning_rate_rbm=0.01,\n",
    "                                    learning_rate=0.01,\n",
    "                                    n_epochs_rbm=2,\n",
    "                                    n_iter_backprop=5,\n",
    "                                    batch_size=28,\n",
    "                                    activation_function='relu')\n",
    "regressor.fit(X_train, Y_train)"
   ]
  },
  {
   "cell_type": "code",
   "execution_count": 15,
   "metadata": {},
   "outputs": [
    {
     "name": "stdout",
     "output_type": "stream",
     "text": [
      "[0.19814244524139413, 0.17115210323034286, 0.05664889165175256, 0.05326608305362994, 0.024816107998111302, 0.024656082892484756]\n",
      "[0.04625629241527039, 0.03179732264484892, 0.030986765213555627, 0.030143116083964524, 0.02920066412219293]\n"
     ]
    }
   ],
   "source": [
    "#To check RBM Loss Errors:\n",
    "rbm_error = regressor.unsupervised_dbn.rbm_layers[0].rbm_loss_error\n",
    "print(rbm_error)\n",
    "#To check DBN Loss Errors\n",
    "dbn_error = regressor.dbn_loss_error\n",
    "print(dbn_error)"
   ]
  },
  {
   "cell_type": "code",
   "execution_count": null,
   "metadata": {},
   "outputs": [],
   "source": [
    "# Test\n",
    "X_test = min_max_scaler.transform(X_test)\n",
    "Y_pred = regressor.predict(X_test)\n",
    "print('Done.\\nR-squared: %f\\nMSE: %f \\nMAE: %f' % (r2_score(Y_test, Y_pred), mean_squared_error(Y_test, Y_pred), mean_absolute_error(Y_test, Y_pred)))"
   ]
  },
  {
   "cell_type": "code",
   "execution_count": null,
   "metadata": {},
   "outputs": [],
   "source": [
    "print(len(Y_pred))\n",
    "temp = []\n",
    "for i in range(len(Y_pred)):\n",
    "    temp.append(Y_pred[i][0])\n",
    "d = {'Predicted': temp, 'Actual': Y_test}\n",
    "\n",
    "df = pd.DataFrame(data=d)\n",
    "df.head()"
   ]
  },
  {
   "cell_type": "code",
   "execution_count": null,
   "metadata": {},
   "outputs": [],
   "source": [
    "df"
   ]
  },
  {
   "cell_type": "code",
   "execution_count": null,
   "metadata": {},
   "outputs": [],
   "source": [
    "## Save the model\n",
    "regressor.save('models/pm1_' + ROAD + '_' + YEAR + '.pkl')"
   ]
  },
  {
   "cell_type": "code",
   "execution_count": null,
   "metadata": {},
   "outputs": [],
   "source": [
    "df.to_csv(\"output/pm1_\" + FILENAME + EXT, encoding='utf-8')"
   ]
  },
  {
   "cell_type": "markdown",
   "metadata": {},
   "source": [
    "#### Visualize trend of loss of RBM and DBN Training"
   ]
  },
  {
   "cell_type": "code",
   "execution_count": null,
   "metadata": {},
   "outputs": [],
   "source": [
    "import matplotlib.pyplot as plt"
   ]
  },
  {
   "cell_type": "code",
   "execution_count": 35,
   "metadata": {},
   "outputs": [
    {
     "data": {
      "image/png": "[encoded data removed]",
      "text/plain": [
       "<Figure size 432x288 with 1 Axes>"
      ]
     },
     "metadata": {},
     "output_type": "display_data"
    },
    {
     "data": {
      "image/png": "[encoded data removed]",
      "text/plain": [
       "<Figure size 432x288 with 1 Axes>"
      ]
     },
     "metadata": {},
     "output_type": "display_data"
    }
   ],
   "source": [
    "line1 = rbm_error\n",
    "line2 = dbn_error\n",
    "x = range(0, RBM_EPOCHS * len(HIDDEN_LAYER_STRUCT))\n",
    "plt.plot(range(0, RBM_EPOCHS * len(HIDDEN_LAYER_STRUCT)), line1, c='red')\n",
    "plt.xticks(x)\n",
    "plt.xlabel(\"Iteration\")\n",
    "plt.ylabel(\"Error\")\n",
    "plt.show()\n",
    "\n",
    "plt.plot(range(DBN_EPOCHS), line2, c='blue')\n",
    "plt.xticks(x)\n",
    "plt.xlabel(\"Iteration\")\n",
    "plt.ylabel(\"Error\")\n",
    "plt.show()"
   ]
  }
 ],
 "metadata": {
  "kernelspec": {
   "display_name": "Python 3",
   "language": "python",
   "name": "python3"
  },
  "language_info": {
   "codemirror_mode": {
    "name": "ipython",
    "version": 3
   },
   "file_extension": ".py",
   "mimetype": "text/x-python",
   "name": "python",
   "nbconvert_exporter": "python",
   "pygments_lexer": "ipython3",
   "version": "3.5.5"
  }
 },
 "nbformat": 4,
 "nbformat_minor": 2
}
